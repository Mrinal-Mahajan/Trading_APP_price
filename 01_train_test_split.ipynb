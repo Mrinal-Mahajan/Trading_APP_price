{
 "cells": [
  {
   "cell_type": "code",
   "execution_count": 1,
   "metadata": {},
   "outputs": [],
   "source": [
    "import pandas as pd\n",
    "import os\n",
    "from sklearn.model_selection import train_test_split\n",
    "import numpy as np"
   ]
  },
  {
   "cell_type": "code",
   "execution_count": 2,
   "metadata": {},
   "outputs": [],
   "source": [
    "os.chdir('../../Data')"
   ]
  },
  {
   "cell_type": "code",
   "execution_count": 3,
   "metadata": {},
   "outputs": [],
   "source": [
    "df = pd.read_csv('final_data.csv',header=0)"
   ]
  },
  {
   "cell_type": "code",
   "execution_count": 4,
   "metadata": {},
   "outputs": [
    {
     "data": {
      "text/plain": [
       "Index(['Date', 'Symbol', 'Series', 'Prev Close', 'Open', 'High', 'Low', 'Last',\n",
       "       'Close', 'VWAP', 'Volume', 'Turnover', 'Trades', 'Deliverable Volume',\n",
       "       '%Deliverble', 'Sector', 'Open_nifty', 'High_nifty', 'Low_nifty',\n",
       "       'Close_nifty', 'Volume_nifty', 'Turnover_nifty', 'Open_auto',\n",
       "       'High_auto', 'Low_auto', 'Close_auto', 'Volume_auto', 'Turnover_auto',\n",
       "       'Open_bank', 'High_bank', 'Low_bank', 'Close_bank', 'Volume_bank',\n",
       "       'Turnover_bank', 'Open_fmcg', 'High_fmcg', 'Low_fmcg', 'Close_fmcg',\n",
       "       'Volume_fmcg', 'Turnover_fmcg', 'Open_it', 'High_it', 'Low_it',\n",
       "       'Close_it', 'Volume_it', 'Turnover_it', 'Open_media', 'High_media',\n",
       "       'Low_media', 'Close_media', 'Volume_media', 'Turnover_media',\n",
       "       'Open_metal', 'High_metal', 'Low_metal', 'Close_metal', 'Volume_metal',\n",
       "       'Turnover_metal', 'Open_pharma', 'High_pharma', 'Low_pharma',\n",
       "       'Close_pharma', 'Volume_pharma', 'Turnover_pharma', 'Open_realty',\n",
       "       'High_realty', 'Low_realty', 'Close_realty', 'Volume_realty',\n",
       "       'Turnover_realty', 'Open_psu', 'High_psu', 'Low_psu', 'Close_psu',\n",
       "       'Volume_psu', 'Turnover_psu', 'Open_500', 'High_500', 'Low_500',\n",
       "       'Close_500', 'Volume_500', 'Turnover_500'],\n",
       "      dtype='object')"
      ]
     },
     "execution_count": 4,
     "metadata": {},
     "output_type": "execute_result"
    }
   ],
   "source": [
    "df.columns"
   ]
  },
  {
   "cell_type": "code",
   "execution_count": 5,
   "metadata": {},
   "outputs": [],
   "source": [
    "rename_dict = {col : '_'.join(col.split(' ')) for col in df.columns}"
   ]
  },
  {
   "cell_type": "code",
   "execution_count": 7,
   "metadata": {},
   "outputs": [],
   "source": [
    "df.rename(rename_dict,copy=False,inplace=True,axis=1)"
   ]
  },
  {
   "cell_type": "code",
   "execution_count": 8,
   "metadata": {},
   "outputs": [],
   "source": [
    "companies = list(df['Symbol'].unique())"
   ]
  },
  {
   "cell_type": "code",
   "execution_count": 9,
   "metadata": {},
   "outputs": [],
   "source": [
    "cols_to_shift = [col for col in df.columns if col not in ['Date','Symbol','Series','Prev_Close','Open','Sector','Close']]"
   ]
  },
  {
   "cell_type": "code",
   "execution_count": 10,
   "metadata": {},
   "outputs": [],
   "source": [
    "rename_dict2 = {col : col+'_1d' for col in cols_to_shift}"
   ]
  },
  {
   "cell_type": "code",
   "execution_count": 11,
   "metadata": {},
   "outputs": [
    {
     "data": {
      "text/plain": [
       "{'High': 'High_1d',\n",
       " 'Low': 'Low_1d',\n",
       " 'Last': 'Last_1d',\n",
       " 'VWAP': 'VWAP_1d',\n",
       " 'Volume': 'Volume_1d',\n",
       " 'Turnover': 'Turnover_1d',\n",
       " 'Trades': 'Trades_1d',\n",
       " 'Deliverable_Volume': 'Deliverable_Volume_1d',\n",
       " '%Deliverble': '%Deliverble_1d',\n",
       " 'Open_nifty': 'Open_nifty_1d',\n",
       " 'High_nifty': 'High_nifty_1d',\n",
       " 'Low_nifty': 'Low_nifty_1d',\n",
       " 'Close_nifty': 'Close_nifty_1d',\n",
       " 'Volume_nifty': 'Volume_nifty_1d',\n",
       " 'Turnover_nifty': 'Turnover_nifty_1d',\n",
       " 'Open_auto': 'Open_auto_1d',\n",
       " 'High_auto': 'High_auto_1d',\n",
       " 'Low_auto': 'Low_auto_1d',\n",
       " 'Close_auto': 'Close_auto_1d',\n",
       " 'Volume_auto': 'Volume_auto_1d',\n",
       " 'Turnover_auto': 'Turnover_auto_1d',\n",
       " 'Open_bank': 'Open_bank_1d',\n",
       " 'High_bank': 'High_bank_1d',\n",
       " 'Low_bank': 'Low_bank_1d',\n",
       " 'Close_bank': 'Close_bank_1d',\n",
       " 'Volume_bank': 'Volume_bank_1d',\n",
       " 'Turnover_bank': 'Turnover_bank_1d',\n",
       " 'Open_fmcg': 'Open_fmcg_1d',\n",
       " 'High_fmcg': 'High_fmcg_1d',\n",
       " 'Low_fmcg': 'Low_fmcg_1d',\n",
       " 'Close_fmcg': 'Close_fmcg_1d',\n",
       " 'Volume_fmcg': 'Volume_fmcg_1d',\n",
       " 'Turnover_fmcg': 'Turnover_fmcg_1d',\n",
       " 'Open_it': 'Open_it_1d',\n",
       " 'High_it': 'High_it_1d',\n",
       " 'Low_it': 'Low_it_1d',\n",
       " 'Close_it': 'Close_it_1d',\n",
       " 'Volume_it': 'Volume_it_1d',\n",
       " 'Turnover_it': 'Turnover_it_1d',\n",
       " 'Open_media': 'Open_media_1d',\n",
       " 'High_media': 'High_media_1d',\n",
       " 'Low_media': 'Low_media_1d',\n",
       " 'Close_media': 'Close_media_1d',\n",
       " 'Volume_media': 'Volume_media_1d',\n",
       " 'Turnover_media': 'Turnover_media_1d',\n",
       " 'Open_metal': 'Open_metal_1d',\n",
       " 'High_metal': 'High_metal_1d',\n",
       " 'Low_metal': 'Low_metal_1d',\n",
       " 'Close_metal': 'Close_metal_1d',\n",
       " 'Volume_metal': 'Volume_metal_1d',\n",
       " 'Turnover_metal': 'Turnover_metal_1d',\n",
       " 'Open_pharma': 'Open_pharma_1d',\n",
       " 'High_pharma': 'High_pharma_1d',\n",
       " 'Low_pharma': 'Low_pharma_1d',\n",
       " 'Close_pharma': 'Close_pharma_1d',\n",
       " 'Volume_pharma': 'Volume_pharma_1d',\n",
       " 'Turnover_pharma': 'Turnover_pharma_1d',\n",
       " 'Open_realty': 'Open_realty_1d',\n",
       " 'High_realty': 'High_realty_1d',\n",
       " 'Low_realty': 'Low_realty_1d',\n",
       " 'Close_realty': 'Close_realty_1d',\n",
       " 'Volume_realty': 'Volume_realty_1d',\n",
       " 'Turnover_realty': 'Turnover_realty_1d',\n",
       " 'Open_psu': 'Open_psu_1d',\n",
       " 'High_psu': 'High_psu_1d',\n",
       " 'Low_psu': 'Low_psu_1d',\n",
       " 'Close_psu': 'Close_psu_1d',\n",
       " 'Volume_psu': 'Volume_psu_1d',\n",
       " 'Turnover_psu': 'Turnover_psu_1d',\n",
       " 'Open_500': 'Open_500_1d',\n",
       " 'High_500': 'High_500_1d',\n",
       " 'Low_500': 'Low_500_1d',\n",
       " 'Close_500': 'Close_500_1d',\n",
       " 'Volume_500': 'Volume_500_1d',\n",
       " 'Turnover_500': 'Turnover_500_1d'}"
      ]
     },
     "execution_count": 11,
     "metadata": {},
     "output_type": "execute_result"
    }
   ],
   "source": [
    "rename_dict2"
   ]
  },
  {
   "cell_type": "code",
   "execution_count": 12,
   "metadata": {},
   "outputs": [
    {
     "name": "stdout",
     "output_type": "stream",
     "text": [
      "development data for ADANIPORTS\n"
     ]
    },
    {
     "name": "stderr",
     "output_type": "stream",
     "text": [
      "C:\\Users\\DELL\\Anaconda3\\lib\\site-packages\\ipykernel_launcher.py:5: SettingWithCopyWarning: \n",
      "A value is trying to be set on a copy of a slice from a DataFrame.\n",
      "Try using .loc[row_indexer,col_indexer] = value instead\n",
      "\n",
      "See the caveats in the documentation: http://pandas.pydata.org/pandas-docs/stable/indexing.html#indexing-view-versus-copy\n",
      "  \"\"\"\n",
      "C:\\Users\\DELL\\Anaconda3\\lib\\site-packages\\ipykernel_launcher.py:6: SettingWithCopyWarning: \n",
      "A value is trying to be set on a copy of a slice from a DataFrame\n",
      "\n",
      "See the caveats in the documentation: http://pandas.pydata.org/pandas-docs/stable/indexing.html#indexing-view-versus-copy\n",
      "  \n",
      "C:\\Users\\DELL\\Anaconda3\\lib\\site-packages\\ipykernel_launcher.py:9: SettingWithCopyWarning: \n",
      "A value is trying to be set on a copy of a slice from a DataFrame.\n",
      "Try using .loc[row_indexer,col_indexer] = value instead\n",
      "\n",
      "See the caveats in the documentation: http://pandas.pydata.org/pandas-docs/stable/indexing.html#indexing-view-versus-copy\n",
      "  if __name__ == '__main__':\n",
      "C:\\Users\\DELL\\Anaconda3\\lib\\site-packages\\ipykernel_launcher.py:10: SettingWithCopyWarning: \n",
      "A value is trying to be set on a copy of a slice from a DataFrame.\n",
      "Try using .loc[row_indexer,col_indexer] = value instead\n",
      "\n",
      "See the caveats in the documentation: http://pandas.pydata.org/pandas-docs/stable/indexing.html#indexing-view-versus-copy\n",
      "  # Remove the CWD from sys.path while we load stuff.\n",
      "C:\\Users\\DELL\\Anaconda3\\lib\\site-packages\\ipykernel_launcher.py:12: SettingWithCopyWarning: \n",
      "A value is trying to be set on a copy of a slice from a DataFrame.\n",
      "Try using .loc[row_indexer,col_indexer] = value instead\n",
      "\n",
      "See the caveats in the documentation: http://pandas.pydata.org/pandas-docs/stable/indexing.html#indexing-view-versus-copy\n",
      "  if sys.path[0] == '':\n",
      "C:\\Users\\DELL\\Anaconda3\\lib\\site-packages\\ipykernel_launcher.py:13: SettingWithCopyWarning: \n",
      "A value is trying to be set on a copy of a slice from a DataFrame.\n",
      "Try using .loc[row_indexer,col_indexer] = value instead\n",
      "\n",
      "See the caveats in the documentation: http://pandas.pydata.org/pandas-docs/stable/indexing.html#indexing-view-versus-copy\n",
      "  del sys.path[0]\n",
      "C:\\Users\\DELL\\Anaconda3\\lib\\site-packages\\pandas\\core\\frame.py:3137: SettingWithCopyWarning: \n",
      "A value is trying to be set on a copy of a slice from a DataFrame.\n",
      "Try using .loc[row_indexer,col_indexer] = value instead\n",
      "\n",
      "See the caveats in the documentation: http://pandas.pydata.org/pandas-docs/stable/indexing.html#indexing-view-versus-copy\n",
      "  self[k1] = value[k2]\n",
      "C:\\Users\\DELL\\Anaconda3\\lib\\site-packages\\pandas\\core\\frame.py:3778: SettingWithCopyWarning: \n",
      "A value is trying to be set on a copy of a slice from a DataFrame\n",
      "\n",
      "See the caveats in the documentation: http://pandas.pydata.org/pandas-docs/stable/indexing.html#indexing-view-versus-copy\n",
      "  return super(DataFrame, self).rename(**kwargs)\n"
     ]
    },
    {
     "name": "stdout",
     "output_type": "stream",
     "text": [
      "development data for ASIANPAINT\n",
      "development data for AXISBANK\n",
      "development data for BAJAJ-AUTO\n",
      "development data for BAJFINANCE\n",
      "development data for BAJAJFINSV\n",
      "development data for BHARTIARTL\n",
      "development data for INFRATEL\n",
      "development data for BPCL\n",
      "development data for BRITANNIA\n",
      "development data for CIPLA\n",
      "development data for COALINDIA\n",
      "development data for DRREDDY\n",
      "development data for EICHERMOT\n",
      "development data for GAIL\n",
      "development data for GRASIM\n",
      "development data for HCLTECH\n",
      "development data for HDFC\n",
      "development data for HDFCBANK\n",
      "development data for HEROMOTOCO\n",
      "development data for HINDALCO\n",
      "development data for HINDUNILVR\n",
      "development data for ICICIBANK\n",
      "development data for IBULHSGFIN\n",
      "development data for INDUSINDBK\n",
      "development data for INFY\n",
      "development data for IOC\n",
      "development data for ITC\n",
      "development data for JSWSTEEL\n",
      "development data for KOTAKBANK\n",
      "development data for LT\n",
      "development data for M&M\n",
      "development data for MARUTI\n",
      "development data for NTPC\n",
      "development data for ONGC\n",
      "development data for POWERGRID\n",
      "development data for RELIANCE\n",
      "development data for SBIN\n",
      "development data for SUNPHARMA\n",
      "development data for TCS\n",
      "development data for TATAMOTORS\n",
      "development data for TATASTEEL\n",
      "development data for TECHM\n",
      "development data for TITAN\n",
      "development data for ULTRACEMCO\n",
      "development data for UPL\n",
      "development data for VEDL\n",
      "development data for WIPRO\n",
      "development data for YESBANK\n",
      "development data for ZEEL\n"
     ]
    }
   ],
   "source": [
    "development = pd.DataFrame()\n",
    "for company in companies:\n",
    "    print('development data for {}'.format(company))\n",
    "    df_append = df[df['Symbol']==company]\n",
    "    df_append['Date'] = pd.to_datetime(df['Date'])\n",
    "    df_append.sort_values(by='Date',inplace=True)\n",
    "    for index in ['nifty','auto','bank','fmcg','it','media','metal','pharma','realty','psu','500']:\n",
    "        for i in range(1,6):\n",
    "            df_append['return_{j}d_{index}'.format(j=i,index=index)] = (df_append['Close_{}'.format(index)].shift(i)-df_append['Open_{}'.format(index)].shift(i))/df_append['Open_{}'.format(index)].shift(i)*100\n",
    "        df_append['Voltality_{}'.format(index)] = df_append[['return_{i}d_{index}'.format(i=i,index=index) for i in range(1,6)]].apply(lambda x:np.std(x),axis=1)\n",
    "    for i in range(1,6):\n",
    "        df_append['return_{j}d'.format(j=i)] = (df_append['Close'].shift(i)-df_append['Open'].shift(i))/df_append['Open'].shift(i)*100\n",
    "    df_append['Voltality'] = df_append[['return_1d','return_2d','return_3d','return_4d','return_5d']].apply(lambda x:np.std(x),axis=1)\n",
    "    df_append[['Open_1d']+cols_to_shift] = df_append[['Open']+cols_to_shift].shift(1)\n",
    "    df_append.rename(rename_dict2,copy=False,inplace=True,axis=1)\n",
    "    development = development.append(df_append.iloc[5:])"
   ]
  },
  {
   "cell_type": "code",
   "execution_count": 13,
   "metadata": {},
   "outputs": [
    {
     "data": {
      "text/plain": [
       "Date                     False\n",
       "Symbol                   False\n",
       "Series                   False\n",
       "Prev_Close               False\n",
       "Open                     False\n",
       "High_1d                  False\n",
       "Low_1d                   False\n",
       "Last_1d                  False\n",
       "Close                    False\n",
       "VWAP_1d                  False\n",
       "Volume_1d                False\n",
       "Turnover_1d              False\n",
       "Trades_1d                False\n",
       "Deliverable_Volume_1d    False\n",
       "%Deliverble_1d           False\n",
       "Sector                   False\n",
       "Open_nifty_1d            False\n",
       "High_nifty_1d            False\n",
       "Low_nifty_1d             False\n",
       "Close_nifty_1d           False\n",
       "Volume_nifty_1d          False\n",
       "Turnover_nifty_1d        False\n",
       "Open_auto_1d             False\n",
       "High_auto_1d             False\n",
       "Low_auto_1d              False\n",
       "Close_auto_1d            False\n",
       "Volume_auto_1d            True\n",
       "Turnover_auto_1d          True\n",
       "Open_bank_1d             False\n",
       "High_bank_1d             False\n",
       "                         ...  \n",
       "return_2d_pharma         False\n",
       "return_3d_pharma         False\n",
       "return_4d_pharma         False\n",
       "return_5d_pharma         False\n",
       "Voltality_pharma         False\n",
       "return_1d_realty         False\n",
       "return_2d_realty         False\n",
       "return_3d_realty         False\n",
       "return_4d_realty         False\n",
       "return_5d_realty         False\n",
       "Voltality_realty         False\n",
       "return_1d_psu            False\n",
       "return_2d_psu            False\n",
       "return_3d_psu            False\n",
       "return_4d_psu            False\n",
       "return_5d_psu            False\n",
       "Voltality_psu            False\n",
       "return_1d_500            False\n",
       "return_2d_500            False\n",
       "return_3d_500            False\n",
       "return_4d_500            False\n",
       "return_5d_500            False\n",
       "Voltality_500            False\n",
       "return_1d                False\n",
       "return_2d                False\n",
       "return_3d                False\n",
       "return_4d                False\n",
       "return_5d                False\n",
       "Voltality                False\n",
       "Open_1d                  False\n",
       "Length: 155, dtype: bool"
      ]
     },
     "execution_count": 13,
     "metadata": {},
     "output_type": "execute_result"
    }
   ],
   "source": [
    "development.isnull().any()"
   ]
  },
  {
   "cell_type": "code",
   "execution_count": 14,
   "metadata": {},
   "outputs": [
    {
     "data": {
      "text/plain": [
       "(88899, 155)"
      ]
     },
     "execution_count": 14,
     "metadata": {},
     "output_type": "execute_result"
    }
   ],
   "source": [
    "development.shape"
   ]
  },
  {
   "cell_type": "code",
   "execution_count": 15,
   "metadata": {},
   "outputs": [
    {
     "data": {
      "text/plain": [
       "Index(['Date', 'Symbol', 'Series', 'Prev_Close', 'Open', 'High_1d', 'Low_1d',\n",
       "       'Last_1d', 'Close', 'VWAP_1d',\n",
       "       ...\n",
       "       'return_4d_500', 'return_5d_500', 'Voltality_500', 'return_1d',\n",
       "       'return_2d', 'return_3d', 'return_4d', 'return_5d', 'Voltality',\n",
       "       'Open_1d'],\n",
       "      dtype='object', length=155)"
      ]
     },
     "execution_count": 15,
     "metadata": {},
     "output_type": "execute_result"
    }
   ],
   "source": [
    "development.columns"
   ]
  },
  {
   "cell_type": "code",
   "execution_count": 16,
   "metadata": {},
   "outputs": [
    {
     "name": "stdout",
     "output_type": "stream",
     "text": [
      "Volume_auto_1d\n",
      "Turnover_auto_1d\n",
      "Volume_bank_1d\n",
      "Turnover_bank_1d\n",
      "Volume_fmcg_1d\n",
      "Turnover_fmcg_1d\n",
      "Volume_it_1d\n",
      "Turnover_it_1d\n",
      "Volume_media_1d\n",
      "Turnover_media_1d\n",
      "Volume_metal_1d\n",
      "Turnover_metal_1d\n",
      "Volume_pharma_1d\n",
      "Turnover_pharma_1d\n",
      "Volume_realty_1d\n",
      "Turnover_realty_1d\n",
      "Volume_psu_1d\n",
      "Turnover_psu_1d\n",
      "Volume_500_1d\n",
      "Turnover_500_1d\n"
     ]
    }
   ],
   "source": [
    "null_cols = []\n",
    "for col in development.columns:\n",
    "    if development[col].isnull().any():\n",
    "        print(col)\n",
    "        null_cols.append(col)"
   ]
  },
  {
   "cell_type": "code",
   "execution_count": 17,
   "metadata": {},
   "outputs": [],
   "source": [
    "development.drop(null_cols,axis=1,inplace=True)"
   ]
  },
  {
   "cell_type": "code",
   "execution_count": 18,
   "metadata": {},
   "outputs": [],
   "source": [
    "for col in development.columns:\n",
    "    if development[col].isnull().any():\n",
    "        print(col)"
   ]
  },
  {
   "cell_type": "code",
   "execution_count": 19,
   "metadata": {},
   "outputs": [],
   "source": [
    "development.set_index(['Symbol','Date'],inplace=True)"
   ]
  },
  {
   "cell_type": "code",
   "execution_count": 20,
   "metadata": {},
   "outputs": [],
   "source": [
    "open_price = development['Open']"
   ]
  },
  {
   "cell_type": "code",
   "execution_count": 21,
   "metadata": {},
   "outputs": [],
   "source": [
    "development.drop(['Open'],axis=1,inplace=True)"
   ]
  },
  {
   "cell_type": "code",
   "execution_count": 22,
   "metadata": {},
   "outputs": [],
   "source": [
    "development.reset_index(inplace=True)"
   ]
  },
  {
   "cell_type": "code",
   "execution_count": 23,
   "metadata": {},
   "outputs": [],
   "source": [
    "training = development.loc[development['Date']< '2019-01-01']\n",
    "testing =  development.loc[development['Date']>='2019-01-01']"
   ]
  },
  {
   "cell_type": "code",
   "execution_count": 24,
   "metadata": {},
   "outputs": [],
   "source": [
    "os.chdir('../')"
   ]
  },
  {
   "cell_type": "code",
   "execution_count": 25,
   "metadata": {},
   "outputs": [
    {
     "data": {
      "text/plain": [
       "(85799, 134)"
      ]
     },
     "execution_count": 25,
     "metadata": {},
     "output_type": "execute_result"
    }
   ],
   "source": [
    "training.shape"
   ]
  },
  {
   "cell_type": "code",
   "execution_count": 26,
   "metadata": {},
   "outputs": [],
   "source": [
    "os.chdir('Price Prediction/Input_Data/')"
   ]
  },
  {
   "cell_type": "code",
   "execution_count": 27,
   "metadata": {},
   "outputs": [],
   "source": [
    "open_price.to_csv('open_price.csv')"
   ]
  },
  {
   "cell_type": "code",
   "execution_count": 28,
   "metadata": {},
   "outputs": [],
   "source": [
    "training.to_csv('train.csv',index=False)"
   ]
  },
  {
   "cell_type": "code",
   "execution_count": 29,
   "metadata": {},
   "outputs": [],
   "source": [
    "testing.to_csv('validation.csv',index=False)"
   ]
  },
  {
   "cell_type": "code",
   "execution_count": null,
   "metadata": {},
   "outputs": [],
   "source": []
  }
 ],
 "metadata": {
  "kernelspec": {
   "display_name": "Python 3",
   "language": "python",
   "name": "python3"
  },
  "language_info": {
   "codemirror_mode": {
    "name": "ipython",
    "version": 3
   },
   "file_extension": ".py",
   "mimetype": "text/x-python",
   "name": "python",
   "nbconvert_exporter": "python",
   "pygments_lexer": "ipython3",
   "version": "3.6.5"
  }
 },
 "nbformat": 4,
 "nbformat_minor": 2
}
