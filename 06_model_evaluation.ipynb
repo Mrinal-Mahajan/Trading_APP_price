{
 "cells": [
  {
   "cell_type": "code",
   "execution_count": 1,
   "metadata": {},
   "outputs": [],
   "source": [
    "import pandas as pd\n",
    "import numpy as np\n",
    "import pickle\n",
    "import os"
   ]
  },
  {
   "cell_type": "code",
   "execution_count": 2,
   "metadata": {},
   "outputs": [],
   "source": [
    "from sklearn.metrics import r2_score,mean_squared_error,precision_score"
   ]
  },
  {
   "cell_type": "code",
   "execution_count": 3,
   "metadata": {},
   "outputs": [],
   "source": [
    "from scipy.special import cbrt"
   ]
  },
  {
   "cell_type": "code",
   "execution_count": 20,
   "metadata": {},
   "outputs": [],
   "source": [
    "os.chdir('../pickles')"
   ]
  },
  {
   "cell_type": "code",
   "execution_count": 21,
   "metadata": {},
   "outputs": [],
   "source": [
    "numerical = pickle.load(open('numerical.pickle','rb'))\n",
    "categorical = pickle.load(open('categorical.pickle','rb'))\n",
    "conversion_dict = pickle.load(open('conversion_dict.pickle','rb'))\n",
    "imputation_cols = pickle.load(open('imputation_cols.pickle','rb'))\n",
    "model_columns = pickle.load(open('model_columns','rb'))\n",
    "lr_model_columns = pickle.load(open('lr_model_columns.pickle','rb'))\n",
    "order = pickle.load(open('order.pickle','rb'))\n",
    "pca = pickle.load(open('pca.pickle','rb'))\n",
    "scale = pickle.load(open('scale.pickle','rb'))"
   ]
  },
  {
   "cell_type": "code",
   "execution_count": 6,
   "metadata": {},
   "outputs": [],
   "source": [
    "os.chdir('../Input_Data')"
   ]
  },
  {
   "cell_type": "code",
   "execution_count": 7,
   "metadata": {},
   "outputs": [],
   "source": [
    "df = pd.read_csv('validation.csv',header=0)"
   ]
  },
  {
   "cell_type": "code",
   "execution_count": 8,
   "metadata": {},
   "outputs": [],
   "source": [
    "df_val = df.drop(['Symbol','Series','Date'],axis=1)"
   ]
  },
  {
   "cell_type": "code",
   "execution_count": 9,
   "metadata": {},
   "outputs": [],
   "source": [
    "rename_dict = {col : col.replace('%','pct_') for col in df_val.columns if '%' in col}"
   ]
  },
  {
   "cell_type": "code",
   "execution_count": 10,
   "metadata": {},
   "outputs": [],
   "source": [
    "df_val.rename(rename_dict,axis=1,inplace=True)"
   ]
  },
  {
   "cell_type": "code",
   "execution_count": 11,
   "metadata": {},
   "outputs": [],
   "source": [
    "rename_dict={}\n",
    "for col in order.keys():\n",
    "    df_val[col]=df_val[col]/10**order[col]\n",
    "    rename_dict[col] = col+\"(in {})\".format(\"10^{}\".format(order[col]))"
   ]
  },
  {
   "cell_type": "code",
   "execution_count": 12,
   "metadata": {},
   "outputs": [],
   "source": [
    "df_val.rename(rename_dict,axis=1,inplace=True)"
   ]
  },
  {
   "cell_type": "code",
   "execution_count": 13,
   "metadata": {},
   "outputs": [
    {
     "name": "stdout",
     "output_type": "stream",
     "text": [
      "Sector done\n"
     ]
    }
   ],
   "source": [
    "for col in categorical:\n",
    "    if len(conversion_dict[col])==1:\n",
    "        category = conversion_dict[col][0]\n",
    "        df_val[col+'_dum_'+str(category)] = 0\n",
    "        df_val.loc[df_val[col]==category,col+'_dum_'+str(category)]=1\n",
    "    else:\n",
    "        total_categories = len(conversion_dict[col])\n",
    "        dummies = len(str(int(bin(total_categories)[2:],10)))\n",
    "        bin_conv=[]\n",
    "        for i in range(total_categories):\n",
    "            bin_conv.append(conversion_dict[col][i][1])\n",
    "        for j in range(dummies):\n",
    "            df_val[col+'_dum_'+str(j)]=0\n",
    "            for i,cat in enumerate([conv[0] for conv in conversion_dict[col]]):\n",
    "                df_val.loc[df_val[col]==cat,col+'_dum_'+str(j)]=bin_conv[i]%10\n",
    "                bin_conv[i]=bin_conv[i]//10\n",
    "    df_val.drop(col,axis=1,inplace=True)\n",
    "    print(col+' done')"
   ]
  },
  {
   "cell_type": "code",
   "execution_count": 14,
   "metadata": {},
   "outputs": [],
   "source": [
    "os.chdir('../Statistics/')"
   ]
  },
  {
   "cell_type": "code",
   "execution_count": 15,
   "metadata": {},
   "outputs": [],
   "source": [
    "edd_df = pd.read_excel('report.xlsx',sheet_name='edd_v01',header=0)"
   ]
  },
  {
   "cell_type": "code",
   "execution_count": 16,
   "metadata": {},
   "outputs": [],
   "source": [
    "transform_dict = {'log':lambda x: np.log(x),'sqr':lambda x: x**2,'sqrt':lambda x: np.sqrt(x),'exp':lambda x:np.exp(x),\n",
    "                 'cube':lambda x: x**3,'cuberoot': lambda x: cbrt(x)}"
   ]
  },
  {
   "cell_type": "code",
   "execution_count": 17,
   "metadata": {},
   "outputs": [],
   "source": [
    "for col in list(edd_df['Var']):\n",
    "    applied = edd_df.loc[edd_df['Var']==col,'conversions'].values[0]\n",
    "    if applied != '' and applied != 'categorical':\n",
    "        try:\n",
    "            for t in applied.split(','):\n",
    "                df_val[col+'_'+t] = df_val[col].apply(transform_dict[t])\n",
    "        except:\n",
    "            pass"
   ]
  },
  {
   "cell_type": "code",
   "execution_count": 18,
   "metadata": {},
   "outputs": [],
   "source": [
    "os.chdir('../Imputation_models')"
   ]
  },
  {
   "cell_type": "code",
   "execution_count": 19,
   "metadata": {},
   "outputs": [
    {
     "name": "stdout",
     "output_type": "stream",
     "text": [
      "Prev_Close(in 10^5) imputed\n",
      "High_1d(in 10^5) imputed\n",
      "Low_1d(in 10^5) imputed\n",
      "Last_1d(in 10^5) imputed\n",
      "VWAP_1d(in 10^5) imputed\n",
      "Volume_1d(in 10^9) imputed\n",
      "Turnover_1d(in 10^11) imputed\n",
      "Trades_1d(in 10^7) imputed\n",
      "Deliverable_Volume_1d(in 10^9) imputed\n",
      "pct_Deliverble_1d imputed\n",
      "Open_nifty_1d(in 10^5) imputed\n",
      "High_nifty_1d(in 10^5) imputed\n",
      "Low_nifty_1d(in 10^5) imputed\n",
      "Close_nifty_1d(in 10^5) imputed\n",
      "Volume_nifty_1d(in 10^9) imputed\n",
      "Turnover_nifty_1d(in 10^11) imputed\n",
      "Open_auto_1d(in 10^5) imputed\n",
      "High_auto_1d(in 10^5) imputed\n",
      "Low_auto_1d(in 10^5) imputed\n",
      "Close_auto_1d(in 10^5) imputed\n",
      "Open_bank_1d(in 10^5) imputed\n",
      "High_bank_1d(in 10^5) imputed\n",
      "Low_bank_1d(in 10^5) imputed\n",
      "Close_bank_1d(in 10^5) imputed\n",
      "Open_fmcg_1d(in 10^5) imputed\n",
      "High_fmcg_1d(in 10^5) imputed\n",
      "Low_fmcg_1d(in 10^5) imputed\n",
      "Close_fmcg_1d(in 10^5) imputed\n",
      "Open_it_1d(in 10^5) imputed\n",
      "High_it_1d(in 10^5) imputed\n",
      "Low_it_1d(in 10^5) imputed\n",
      "Close_it_1d(in 10^5) imputed\n",
      "Open_media_1d(in 10^4) imputed\n",
      "High_media_1d(in 10^4) imputed\n",
      "Low_media_1d(in 10^4) imputed\n",
      "Close_media_1d(in 10^4) imputed\n",
      "Open_metal_1d(in 10^4) imputed\n",
      "High_metal_1d(in 10^4) imputed\n",
      "Low_metal_1d(in 10^4) imputed\n",
      "Close_metal_1d(in 10^4) imputed\n",
      "Open_pharma_1d(in 10^5) imputed\n",
      "High_pharma_1d(in 10^5) imputed\n",
      "Low_pharma_1d(in 10^5) imputed\n",
      "Close_pharma_1d(in 10^5) imputed\n",
      "Open_realty_1d(in 10^3) imputed\n",
      "High_realty_1d(in 10^3) imputed\n",
      "Low_realty_1d(in 10^3) imputed\n",
      "Close_realty_1d(in 10^3) imputed\n",
      "Open_psu_1d(in 10^4) imputed\n",
      "High_psu_1d(in 10^4) imputed\n",
      "Low_psu_1d(in 10^4) imputed\n",
      "Close_psu_1d(in 10^4) imputed\n",
      "Open_500_1d(in 10^5) imputed\n",
      "High_500_1d(in 10^5) imputed\n",
      "Low_500_1d(in 10^4) imputed\n",
      "Close_500_1d(in 10^4) imputed\n",
      "return_1d_nifty imputed\n",
      "return_2d_nifty imputed\n",
      "return_3d_nifty imputed\n",
      "return_4d_nifty imputed\n",
      "return_5d_nifty imputed\n",
      "Voltality_nifty imputed\n",
      "return_1d_auto imputed\n",
      "return_2d_auto imputed\n",
      "return_3d_auto imputed\n",
      "return_4d_auto imputed\n",
      "return_5d_auto imputed\n",
      "Voltality_auto imputed\n",
      "return_1d_bank imputed\n",
      "return_2d_bank imputed\n",
      "return_3d_bank imputed\n",
      "return_4d_bank imputed\n",
      "return_5d_bank imputed\n",
      "Voltality_bank imputed\n",
      "return_1d_fmcg imputed\n",
      "return_2d_fmcg imputed\n",
      "return_3d_fmcg imputed\n",
      "return_4d_fmcg imputed\n",
      "return_5d_fmcg imputed\n",
      "Voltality_fmcg imputed\n",
      "return_1d_it imputed\n",
      "return_2d_it imputed\n",
      "return_3d_it imputed\n",
      "return_4d_it imputed\n",
      "return_5d_it imputed\n",
      "Voltality_it imputed\n",
      "return_1d_media imputed\n",
      "return_2d_media imputed\n",
      "return_3d_media imputed\n",
      "return_4d_media imputed\n",
      "return_5d_media imputed\n",
      "Voltality_media imputed\n",
      "return_1d_metal imputed\n",
      "return_2d_metal imputed\n",
      "return_3d_metal imputed\n",
      "return_4d_metal imputed\n",
      "return_5d_metal imputed\n",
      "Voltality_metal imputed\n",
      "return_1d_pharma imputed\n",
      "return_2d_pharma imputed\n",
      "return_3d_pharma imputed\n",
      "return_4d_pharma imputed\n",
      "return_5d_pharma imputed\n",
      "Voltality_pharma imputed\n",
      "return_1d_realty imputed\n",
      "return_2d_realty imputed\n",
      "return_3d_realty imputed\n",
      "return_4d_realty imputed\n",
      "return_5d_realty imputed\n",
      "Voltality_realty imputed\n",
      "return_1d_psu imputed\n",
      "return_2d_psu imputed\n",
      "return_3d_psu imputed\n",
      "return_4d_psu imputed\n",
      "return_5d_psu imputed\n",
      "Voltality_psu imputed\n",
      "return_1d_500 imputed\n",
      "return_2d_500 imputed\n",
      "return_3d_500 imputed\n",
      "return_4d_500 imputed\n",
      "return_5d_500 imputed\n",
      "Voltality_500 imputed\n",
      "return_1d imputed\n",
      "return_2d imputed\n",
      "return_3d imputed\n",
      "return_4d imputed\n",
      "return_5d imputed\n",
      "Voltality imputed\n",
      "Open_1d(in 10^5) imputed\n",
      "Volume_1d(in 10^9)_log imputed\n",
      "Turnover_1d(in 10^11)_log imputed\n",
      "Trades_1d(in 10^7)_log imputed\n",
      "Deliverable_Volume_1d(in 10^9)_log imputed\n",
      "pct_Deliverble_1d_sqr imputed\n",
      "pct_Deliverble_1d_cube imputed\n",
      "pct_Deliverble_1d_exp imputed\n",
      "Open_nifty_1d(in 10^5)_log imputed\n",
      "High_nifty_1d(in 10^5)_log imputed\n",
      "Low_nifty_1d(in 10^5)_log imputed\n",
      "Close_nifty_1d(in 10^5)_log imputed\n",
      "Volume_nifty_1d(in 10^9)_log imputed\n",
      "Turnover_nifty_1d(in 10^11)_log imputed\n",
      "Open_bank_1d(in 10^5)_log imputed\n",
      "High_bank_1d(in 10^5)_log imputed\n",
      "Low_bank_1d(in 10^5)_log imputed\n",
      "Close_bank_1d(in 10^5)_log imputed\n",
      "Open_fmcg_1d(in 10^5)_log imputed\n",
      "High_fmcg_1d(in 10^5)_log imputed\n",
      "Low_fmcg_1d(in 10^5)_log imputed\n",
      "Close_fmcg_1d(in 10^5)_log imputed\n",
      "Open_media_1d(in 10^4)_log imputed\n",
      "Low_media_1d(in 10^4)_log imputed\n",
      "Open_500_1d(in 10^5)_log imputed\n",
      "High_500_1d(in 10^5)_log imputed\n",
      "Low_500_1d(in 10^4)_log imputed\n",
      "Close_500_1d(in 10^4)_log imputed\n",
      "return_1d_nifty_sqr imputed\n",
      "return_1d_nifty_cube imputed\n",
      "return_2d_nifty_sqr imputed\n",
      "return_2d_nifty_cube imputed\n",
      "return_3d_nifty_sqr imputed\n",
      "return_3d_nifty_cube imputed\n",
      "return_4d_nifty_sqr imputed\n",
      "return_4d_nifty_cube imputed\n",
      "return_5d_nifty_sqr imputed\n",
      "return_5d_nifty_cube imputed\n",
      "Voltality_nifty_log imputed\n",
      "Voltality_auto_log imputed\n",
      "Voltality_bank_log imputed\n",
      "return_1d_fmcg_sqr imputed\n",
      "return_1d_fmcg_cube imputed\n",
      "return_2d_fmcg_sqr imputed\n",
      "return_2d_fmcg_cube imputed\n",
      "return_3d_fmcg_sqr imputed\n",
      "return_3d_fmcg_cube imputed\n",
      "return_4d_fmcg_sqr imputed\n",
      "return_4d_fmcg_cube imputed\n",
      "return_5d_fmcg_sqr imputed\n",
      "return_5d_fmcg_cube imputed\n",
      "return_1d_it_sqr imputed\n",
      "return_1d_it_cube imputed\n",
      "return_2d_it_sqr imputed\n",
      "return_2d_it_cube imputed\n",
      "return_3d_it_sqr imputed\n",
      "return_4d_it_sqr imputed\n",
      "return_5d_it_sqr imputed\n",
      "Voltality_media_log imputed\n",
      "Voltality_pharma_log imputed\n",
      "return_1d_realty_sqr imputed\n",
      "return_1d_realty_cube imputed\n",
      "return_2d_realty_sqr imputed\n",
      "return_2d_realty_cube imputed\n",
      "return_3d_realty_sqr imputed\n",
      "return_3d_realty_cube imputed\n",
      "return_4d_realty_sqr imputed\n",
      "return_4d_realty_cube imputed\n",
      "return_5d_realty_sqr imputed\n",
      "return_5d_realty_cube imputed\n",
      "Voltality_realty_log imputed\n",
      "Voltality_psu_log imputed\n",
      "return_1d_500_sqr imputed\n",
      "return_2d_500_sqr imputed\n",
      "return_3d_500_sqr imputed\n",
      "return_4d_500_sqr imputed\n",
      "return_5d_500_sqr imputed\n",
      "Voltality_500_log imputed\n",
      "Voltality_log imputed\n"
     ]
    }
   ],
   "source": [
    "for col in [x for x in numerical if x!='Close']:\n",
    "    model = pickle.load(open(col+'_impute.pickle','rb'))\n",
    "    if df_val[col].isnull().any():\n",
    "        indices = df_val.loc[df_val[col].isnull()].index.tolist()\n",
    "        df_val.loc[indices,col]=np.array(model.predict(np.array(df_val.loc[indices,imputation_cols])))\n",
    "        del indices\n",
    "    del model\n",
    "    print(col+' imputed')"
   ]
  },
  {
   "cell_type": "code",
   "execution_count": 22,
   "metadata": {},
   "outputs": [],
   "source": [
    "x_val,y_val = np.array(df_val[model_columns]),np.array(df_val['Close'])\n",
    "x,y = np.array(df_val[lr_model_columns]),np.array(df_val['Close'])\n",
    "x_pca,y_pca = pca.transform(scale.transform(df_val[model_columns])),np.array(df_val['Close'])"
   ]
  },
  {
   "cell_type": "code",
   "execution_count": 23,
   "metadata": {},
   "outputs": [],
   "source": [
    "os.chdir('../Models')"
   ]
  },
  {
   "cell_type": "code",
   "execution_count": 25,
   "metadata": {},
   "outputs": [
    {
     "name": "stderr",
     "output_type": "stream",
     "text": [
      "C:\\Users\\DELL\\Anaconda3\\lib\\site-packages\\sklearn\\ensemble\\weight_boosting.py:29: DeprecationWarning: numpy.core.umath_tests is an internal NumPy module and should not be imported. It will be removed in a future NumPy release.\n",
      "  from numpy.core.umath_tests import inner1d\n"
     ]
    }
   ],
   "source": [
    "models = {'LR':pickle.load(open('LR.pickle','rb')),\n",
    "                      'RF':pickle.load(open('RF.pickle','rb')),\n",
    "                    'GBM':pickle.load(open('GBM.pickle','rb')),\n",
    "          'RF_full':pickle.load(open('RF_full.pickle','rb')),\n",
    "          'GBM_full':pickle.load(open('GBM_full.pickle','rb')),\n",
    "          'RF_pca':pickle.load(open('RF_pca.pickle','rb')),\n",
    "          'GBM_pca':pickle.load(open('GBM_pca.pickle','rb'))\n",
    "         }"
   ]
  },
  {
   "cell_type": "code",
   "execution_count": 26,
   "metadata": {},
   "outputs": [],
   "source": [
    "df_val['RF_Prediction'] = models['RF'].predict(x)"
   ]
  },
  {
   "cell_type": "code",
   "execution_count": 27,
   "metadata": {},
   "outputs": [],
   "source": [
    "df_val['GBM_Prediction'] = models['GBM'].predict(x)"
   ]
  },
  {
   "cell_type": "code",
   "execution_count": 28,
   "metadata": {},
   "outputs": [],
   "source": [
    "df_val['LR_Prediction'] = models['LR'].predict(x)"
   ]
  },
  {
   "cell_type": "code",
   "execution_count": 29,
   "metadata": {},
   "outputs": [],
   "source": [
    "df_val['RF_full_Prediction'] = models['RF_full'].predict(x_val)"
   ]
  },
  {
   "cell_type": "code",
   "execution_count": 30,
   "metadata": {},
   "outputs": [],
   "source": [
    "df_val['GBM_full_Prediction'] = models['GBM_full'].predict(x_val)"
   ]
  },
  {
   "cell_type": "code",
   "execution_count": 31,
   "metadata": {},
   "outputs": [],
   "source": [
    "df_val['RF_pca_Prediction'] = models['RF_pca'].predict(x_pca)"
   ]
  },
  {
   "cell_type": "code",
   "execution_count": 32,
   "metadata": {},
   "outputs": [],
   "source": [
    "df_val['GBM_pca_Prediction'] = models['GBM_pca'].predict(x_pca)"
   ]
  },
  {
   "cell_type": "code",
   "execution_count": 33,
   "metadata": {},
   "outputs": [],
   "source": [
    "scores = [r2_score(df_val['Close'],df_val['LR_Prediction']),r2_score(df_val['Close'],df_val['RF_Prediction']),r2_score(df_val['Close'],df_val['GBM_Prediction']),\n",
    "         r2_score(df_val['Close'],df_val['RF_full_Prediction']),r2_score(df_val['Close'],df_val['GBM_full_Prediction']),\n",
    "          r2_score(df_val['Close'],df_val['RF_pca_Prediction']),r2_score(df_val['Close'],df_val['GBM_pca_Prediction'])\n",
    "         ]"
   ]
  },
  {
   "cell_type": "code",
   "execution_count": 34,
   "metadata": {},
   "outputs": [],
   "source": [
    "df_scores = pd.DataFrame(list(zip(['LR','RF','GBM','RF_full','GBM_full','RF_pca','GBM_pca'],scores)),columns=['models','r2_score'])"
   ]
  },
  {
   "cell_type": "code",
   "execution_count": 35,
   "metadata": {},
   "outputs": [
    {
     "data": {
      "text/html": [
       "<div>\n",
       "<style scoped>\n",
       "    .dataframe tbody tr th:only-of-type {\n",
       "        vertical-align: middle;\n",
       "    }\n",
       "\n",
       "    .dataframe tbody tr th {\n",
       "        vertical-align: top;\n",
       "    }\n",
       "\n",
       "    .dataframe thead th {\n",
       "        text-align: right;\n",
       "    }\n",
       "</style>\n",
       "<table border=\"1\" class=\"dataframe\">\n",
       "  <thead>\n",
       "    <tr style=\"text-align: right;\">\n",
       "      <th></th>\n",
       "      <th>models</th>\n",
       "      <th>r2_score</th>\n",
       "    </tr>\n",
       "  </thead>\n",
       "  <tbody>\n",
       "    <tr>\n",
       "      <th>0</th>\n",
       "      <td>LR</td>\n",
       "      <td>0.999359</td>\n",
       "    </tr>\n",
       "    <tr>\n",
       "      <th>1</th>\n",
       "      <td>RF</td>\n",
       "      <td>0.986922</td>\n",
       "    </tr>\n",
       "    <tr>\n",
       "      <th>2</th>\n",
       "      <td>GBM</td>\n",
       "      <td>0.965342</td>\n",
       "    </tr>\n",
       "    <tr>\n",
       "      <th>3</th>\n",
       "      <td>RF_full</td>\n",
       "      <td>0.986851</td>\n",
       "    </tr>\n",
       "    <tr>\n",
       "      <th>4</th>\n",
       "      <td>GBM_full</td>\n",
       "      <td>0.988646</td>\n",
       "    </tr>\n",
       "    <tr>\n",
       "      <th>5</th>\n",
       "      <td>RF_pca</td>\n",
       "      <td>0.891839</td>\n",
       "    </tr>\n",
       "    <tr>\n",
       "      <th>6</th>\n",
       "      <td>GBM_pca</td>\n",
       "      <td>0.974851</td>\n",
       "    </tr>\n",
       "  </tbody>\n",
       "</table>\n",
       "</div>"
      ],
      "text/plain": [
       "     models  r2_score\n",
       "0        LR  0.999359\n",
       "1        RF  0.986922\n",
       "2       GBM  0.965342\n",
       "3   RF_full  0.986851\n",
       "4  GBM_full  0.988646\n",
       "5    RF_pca  0.891839\n",
       "6   GBM_pca  0.974851"
      ]
     },
     "execution_count": 35,
     "metadata": {},
     "output_type": "execute_result"
    }
   ],
   "source": [
    "df_scores"
   ]
  },
  {
   "cell_type": "code",
   "execution_count": 36,
   "metadata": {},
   "outputs": [],
   "source": [
    "os.chdir('../Input_Data/')"
   ]
  },
  {
   "cell_type": "code",
   "execution_count": 37,
   "metadata": {},
   "outputs": [],
   "source": [
    "open_prices = pd.read_csv('open_price.csv',header=None)"
   ]
  },
  {
   "cell_type": "code",
   "execution_count": 38,
   "metadata": {},
   "outputs": [],
   "source": [
    "open_prices.columns = ['Symbol','Date','Open']"
   ]
  },
  {
   "cell_type": "code",
   "execution_count": 39,
   "metadata": {},
   "outputs": [],
   "source": [
    "df_val[['Symbol','Date']] = df[['Symbol','Date']]"
   ]
  },
  {
   "cell_type": "code",
   "execution_count": 40,
   "metadata": {},
   "outputs": [],
   "source": [
    "df_final = pd.merge(df_val,open_prices,on=['Symbol','Date'])"
   ]
  },
  {
   "cell_type": "code",
   "execution_count": 41,
   "metadata": {},
   "outputs": [],
   "source": [
    "def loss_precision(model):\n",
    "    expected_profits = df_final[model+'_Prediction'] - df_final['Prev_Close(in 10^5)']*(10**5)\n",
    "    actual_profits = df_final['Close'] - df_final['Open']\n",
    "    expected_lift = expected_profits.apply(lambda x: 1 if x >0 else 0)\n",
    "    actual_lift = actual_profits.apply(lambda x: 1 if x>0 else 0)\n",
    "    precision = precision_score(y_true=actual_lift,y_pred=expected_lift)\n",
    "    lps,pps=0,0\n",
    "    for i,j,k in zip(list(expected_lift),list(actual_lift),list(actual_profits)):\n",
    "        if i==1 and j==0:\n",
    "            lps = lps + (-1)*k\n",
    "        elif i==1 and j==1:\n",
    "            pps+=k\n",
    "    return precision,lps,pps"
   ]
  },
  {
   "cell_type": "code",
   "execution_count": 42,
   "metadata": {},
   "outputs": [],
   "source": [
    "df_scores['precision'] = df_scores['models'].apply(lambda x: loss_precision(x)[0])"
   ]
  },
  {
   "cell_type": "code",
   "execution_count": 43,
   "metadata": {},
   "outputs": [],
   "source": [
    "df_scores['lps'] = df_scores['models'].apply(lambda x: loss_precision(x)[1])"
   ]
  },
  {
   "cell_type": "code",
   "execution_count": 44,
   "metadata": {},
   "outputs": [],
   "source": [
    "df_scores['pps'] = df_scores['models'].apply(lambda x: loss_precision(x)[2])"
   ]
  },
  {
   "cell_type": "code",
   "execution_count": 45,
   "metadata": {},
   "outputs": [
    {
     "data": {
      "text/html": [
       "<div>\n",
       "<style scoped>\n",
       "    .dataframe tbody tr th:only-of-type {\n",
       "        vertical-align: middle;\n",
       "    }\n",
       "\n",
       "    .dataframe tbody tr th {\n",
       "        vertical-align: top;\n",
       "    }\n",
       "\n",
       "    .dataframe thead th {\n",
       "        text-align: right;\n",
       "    }\n",
       "</style>\n",
       "<table border=\"1\" class=\"dataframe\">\n",
       "  <thead>\n",
       "    <tr style=\"text-align: right;\">\n",
       "      <th></th>\n",
       "      <th>models</th>\n",
       "      <th>r2_score</th>\n",
       "      <th>precision</th>\n",
       "      <th>lps</th>\n",
       "      <th>pps</th>\n",
       "    </tr>\n",
       "  </thead>\n",
       "  <tbody>\n",
       "    <tr>\n",
       "      <th>0</th>\n",
       "      <td>LR</td>\n",
       "      <td>0.999359</td>\n",
       "      <td>0.479348</td>\n",
       "      <td>22895.55</td>\n",
       "      <td>17958.10</td>\n",
       "    </tr>\n",
       "    <tr>\n",
       "      <th>1</th>\n",
       "      <td>RF</td>\n",
       "      <td>0.986922</td>\n",
       "      <td>0.468651</td>\n",
       "      <td>9421.25</td>\n",
       "      <td>8135.90</td>\n",
       "    </tr>\n",
       "    <tr>\n",
       "      <th>2</th>\n",
       "      <td>GBM</td>\n",
       "      <td>0.965342</td>\n",
       "      <td>0.480027</td>\n",
       "      <td>23100.15</td>\n",
       "      <td>18163.45</td>\n",
       "    </tr>\n",
       "    <tr>\n",
       "      <th>3</th>\n",
       "      <td>RF_full</td>\n",
       "      <td>0.986851</td>\n",
       "      <td>0.473616</td>\n",
       "      <td>9459.40</td>\n",
       "      <td>8716.30</td>\n",
       "    </tr>\n",
       "    <tr>\n",
       "      <th>4</th>\n",
       "      <td>GBM_full</td>\n",
       "      <td>0.988646</td>\n",
       "      <td>0.469414</td>\n",
       "      <td>22667.80</td>\n",
       "      <td>18385.90</td>\n",
       "    </tr>\n",
       "    <tr>\n",
       "      <th>5</th>\n",
       "      <td>RF_pca</td>\n",
       "      <td>0.891839</td>\n",
       "      <td>0.462604</td>\n",
       "      <td>3460.65</td>\n",
       "      <td>2730.70</td>\n",
       "    </tr>\n",
       "    <tr>\n",
       "      <th>6</th>\n",
       "      <td>GBM_pca</td>\n",
       "      <td>0.974851</td>\n",
       "      <td>0.447880</td>\n",
       "      <td>19965.85</td>\n",
       "      <td>13503.45</td>\n",
       "    </tr>\n",
       "  </tbody>\n",
       "</table>\n",
       "</div>"
      ],
      "text/plain": [
       "     models  r2_score  precision       lps       pps\n",
       "0        LR  0.999359   0.479348  22895.55  17958.10\n",
       "1        RF  0.986922   0.468651   9421.25   8135.90\n",
       "2       GBM  0.965342   0.480027  23100.15  18163.45\n",
       "3   RF_full  0.986851   0.473616   9459.40   8716.30\n",
       "4  GBM_full  0.988646   0.469414  22667.80  18385.90\n",
       "5    RF_pca  0.891839   0.462604   3460.65   2730.70\n",
       "6   GBM_pca  0.974851   0.447880  19965.85  13503.45"
      ]
     },
     "execution_count": 45,
     "metadata": {},
     "output_type": "execute_result"
    }
   ],
   "source": [
    "df_scores"
   ]
  },
  {
   "cell_type": "code",
   "execution_count": 46,
   "metadata": {},
   "outputs": [],
   "source": [
    "df_final['ensemble_prediction'] = (df_final['LR_Prediction']*.48+df_final['RF_Prediction']*.47+df_final['GBM_Prediction']*.48\n",
    "                                  +df_final['RF_full_Prediction']*.47+df_final['GBM_full_Prediction']*.47+\n",
    "                                  df_final['RF_pca_Prediction']*.46+df_final['GBM_pca_Prediction']*.45)/(.48*2+.47*3+.46+.45)"
   ]
  },
  {
   "cell_type": "code",
   "execution_count": 47,
   "metadata": {},
   "outputs": [],
   "source": [
    "expected_profits = df_final['ensemble_prediction'] - df_final['Prev_Close(in 10^5)']*(10**5)\n",
    "actual_profits = df_final['Close'] - df_final['Open']\n",
    "expected_lift = expected_profits.apply(lambda x: 1 if x >0 else 0)\n",
    "actual_lift = actual_profits.apply(lambda x: 1 if x>0 else 0)\n",
    "precision = precision_score(y_true=actual_lift,y_pred=expected_lift)\n",
    "lps,pps=0,0\n",
    "for i,j,k in zip(list(expected_lift),list(actual_lift),list(actual_profits)):\n",
    "    if i==1 and j==0:\n",
    "        lps = lps + (-1)*k\n",
    "    elif i==1 and j==1:\n",
    "            pps+=k"
   ]
  },
  {
   "cell_type": "code",
   "execution_count": 48,
   "metadata": {},
   "outputs": [
    {
     "data": {
      "text/plain": [
       "(0.475103734439834, 10822.949999999999, 9154.399999999992)"
      ]
     },
     "execution_count": 48,
     "metadata": {},
     "output_type": "execute_result"
    }
   ],
   "source": [
    "precision,lps,pps"
   ]
  },
  {
   "cell_type": "code",
   "execution_count": 49,
   "metadata": {},
   "outputs": [],
   "source": [
    "df_scores['P/L'] = df_scores['pps']-df_scores['lps']"
   ]
  },
  {
   "cell_type": "code",
   "execution_count": 50,
   "metadata": {},
   "outputs": [
    {
     "data": {
      "text/html": [
       "<div>\n",
       "<style scoped>\n",
       "    .dataframe tbody tr th:only-of-type {\n",
       "        vertical-align: middle;\n",
       "    }\n",
       "\n",
       "    .dataframe tbody tr th {\n",
       "        vertical-align: top;\n",
       "    }\n",
       "\n",
       "    .dataframe thead th {\n",
       "        text-align: right;\n",
       "    }\n",
       "</style>\n",
       "<table border=\"1\" class=\"dataframe\">\n",
       "  <thead>\n",
       "    <tr style=\"text-align: right;\">\n",
       "      <th></th>\n",
       "      <th>models</th>\n",
       "      <th>r2_score</th>\n",
       "      <th>precision</th>\n",
       "      <th>lps</th>\n",
       "      <th>pps</th>\n",
       "      <th>P/L</th>\n",
       "    </tr>\n",
       "  </thead>\n",
       "  <tbody>\n",
       "    <tr>\n",
       "      <th>0</th>\n",
       "      <td>LR</td>\n",
       "      <td>0.999359</td>\n",
       "      <td>0.479348</td>\n",
       "      <td>22895.55</td>\n",
       "      <td>17958.10</td>\n",
       "      <td>-4937.45</td>\n",
       "    </tr>\n",
       "    <tr>\n",
       "      <th>1</th>\n",
       "      <td>RF</td>\n",
       "      <td>0.986922</td>\n",
       "      <td>0.468651</td>\n",
       "      <td>9421.25</td>\n",
       "      <td>8135.90</td>\n",
       "      <td>-1285.35</td>\n",
       "    </tr>\n",
       "    <tr>\n",
       "      <th>2</th>\n",
       "      <td>GBM</td>\n",
       "      <td>0.965342</td>\n",
       "      <td>0.480027</td>\n",
       "      <td>23100.15</td>\n",
       "      <td>18163.45</td>\n",
       "      <td>-4936.70</td>\n",
       "    </tr>\n",
       "    <tr>\n",
       "      <th>3</th>\n",
       "      <td>RF_full</td>\n",
       "      <td>0.986851</td>\n",
       "      <td>0.473616</td>\n",
       "      <td>9459.40</td>\n",
       "      <td>8716.30</td>\n",
       "      <td>-743.10</td>\n",
       "    </tr>\n",
       "    <tr>\n",
       "      <th>4</th>\n",
       "      <td>GBM_full</td>\n",
       "      <td>0.988646</td>\n",
       "      <td>0.469414</td>\n",
       "      <td>22667.80</td>\n",
       "      <td>18385.90</td>\n",
       "      <td>-4281.90</td>\n",
       "    </tr>\n",
       "    <tr>\n",
       "      <th>5</th>\n",
       "      <td>RF_pca</td>\n",
       "      <td>0.891839</td>\n",
       "      <td>0.462604</td>\n",
       "      <td>3460.65</td>\n",
       "      <td>2730.70</td>\n",
       "      <td>-729.95</td>\n",
       "    </tr>\n",
       "    <tr>\n",
       "      <th>6</th>\n",
       "      <td>GBM_pca</td>\n",
       "      <td>0.974851</td>\n",
       "      <td>0.447880</td>\n",
       "      <td>19965.85</td>\n",
       "      <td>13503.45</td>\n",
       "      <td>-6462.40</td>\n",
       "    </tr>\n",
       "  </tbody>\n",
       "</table>\n",
       "</div>"
      ],
      "text/plain": [
       "     models  r2_score  precision       lps       pps      P/L\n",
       "0        LR  0.999359   0.479348  22895.55  17958.10 -4937.45\n",
       "1        RF  0.986922   0.468651   9421.25   8135.90 -1285.35\n",
       "2       GBM  0.965342   0.480027  23100.15  18163.45 -4936.70\n",
       "3   RF_full  0.986851   0.473616   9459.40   8716.30  -743.10\n",
       "4  GBM_full  0.988646   0.469414  22667.80  18385.90 -4281.90\n",
       "5    RF_pca  0.891839   0.462604   3460.65   2730.70  -729.95\n",
       "6   GBM_pca  0.974851   0.447880  19965.85  13503.45 -6462.40"
      ]
     },
     "execution_count": 50,
     "metadata": {},
     "output_type": "execute_result"
    }
   ],
   "source": [
    "df_scores"
   ]
  },
  {
   "cell_type": "code",
   "execution_count": 51,
   "metadata": {},
   "outputs": [],
   "source": [
    "append_list = ['Ensembled',r2_score(df_final['Close'],df_final['ensemble_prediction']),precision,lps,pps,pps-lps]"
   ]
  },
  {
   "cell_type": "code",
   "execution_count": 53,
   "metadata": {},
   "outputs": [],
   "source": [
    "df_append = pd.DataFrame([append_list],columns=df_scores.columns)"
   ]
  },
  {
   "cell_type": "code",
   "execution_count": 55,
   "metadata": {},
   "outputs": [],
   "source": [
    "df_scores = df_scores.append(df_append,ignore_index=True)"
   ]
  },
  {
   "cell_type": "code",
   "execution_count": 56,
   "metadata": {},
   "outputs": [
    {
     "data": {
      "text/html": [
       "<div>\n",
       "<style scoped>\n",
       "    .dataframe tbody tr th:only-of-type {\n",
       "        vertical-align: middle;\n",
       "    }\n",
       "\n",
       "    .dataframe tbody tr th {\n",
       "        vertical-align: top;\n",
       "    }\n",
       "\n",
       "    .dataframe thead th {\n",
       "        text-align: right;\n",
       "    }\n",
       "</style>\n",
       "<table border=\"1\" class=\"dataframe\">\n",
       "  <thead>\n",
       "    <tr style=\"text-align: right;\">\n",
       "      <th></th>\n",
       "      <th>models</th>\n",
       "      <th>r2_score</th>\n",
       "      <th>precision</th>\n",
       "      <th>lps</th>\n",
       "      <th>pps</th>\n",
       "      <th>P/L</th>\n",
       "    </tr>\n",
       "  </thead>\n",
       "  <tbody>\n",
       "    <tr>\n",
       "      <th>0</th>\n",
       "      <td>LR</td>\n",
       "      <td>0.999359</td>\n",
       "      <td>0.479348</td>\n",
       "      <td>22895.55</td>\n",
       "      <td>17958.10</td>\n",
       "      <td>-4937.45</td>\n",
       "    </tr>\n",
       "    <tr>\n",
       "      <th>1</th>\n",
       "      <td>RF</td>\n",
       "      <td>0.986922</td>\n",
       "      <td>0.468651</td>\n",
       "      <td>9421.25</td>\n",
       "      <td>8135.90</td>\n",
       "      <td>-1285.35</td>\n",
       "    </tr>\n",
       "    <tr>\n",
       "      <th>2</th>\n",
       "      <td>GBM</td>\n",
       "      <td>0.965342</td>\n",
       "      <td>0.480027</td>\n",
       "      <td>23100.15</td>\n",
       "      <td>18163.45</td>\n",
       "      <td>-4936.70</td>\n",
       "    </tr>\n",
       "    <tr>\n",
       "      <th>3</th>\n",
       "      <td>RF_full</td>\n",
       "      <td>0.986851</td>\n",
       "      <td>0.473616</td>\n",
       "      <td>9459.40</td>\n",
       "      <td>8716.30</td>\n",
       "      <td>-743.10</td>\n",
       "    </tr>\n",
       "    <tr>\n",
       "      <th>4</th>\n",
       "      <td>GBM_full</td>\n",
       "      <td>0.988646</td>\n",
       "      <td>0.469414</td>\n",
       "      <td>22667.80</td>\n",
       "      <td>18385.90</td>\n",
       "      <td>-4281.90</td>\n",
       "    </tr>\n",
       "    <tr>\n",
       "      <th>5</th>\n",
       "      <td>RF_pca</td>\n",
       "      <td>0.891839</td>\n",
       "      <td>0.462604</td>\n",
       "      <td>3460.65</td>\n",
       "      <td>2730.70</td>\n",
       "      <td>-729.95</td>\n",
       "    </tr>\n",
       "    <tr>\n",
       "      <th>6</th>\n",
       "      <td>GBM_pca</td>\n",
       "      <td>0.974851</td>\n",
       "      <td>0.447880</td>\n",
       "      <td>19965.85</td>\n",
       "      <td>13503.45</td>\n",
       "      <td>-6462.40</td>\n",
       "    </tr>\n",
       "    <tr>\n",
       "      <th>7</th>\n",
       "      <td>Ensembled</td>\n",
       "      <td>0.993337</td>\n",
       "      <td>0.475104</td>\n",
       "      <td>10822.95</td>\n",
       "      <td>9154.40</td>\n",
       "      <td>-1668.55</td>\n",
       "    </tr>\n",
       "  </tbody>\n",
       "</table>\n",
       "</div>"
      ],
      "text/plain": [
       "      models  r2_score  precision       lps       pps      P/L\n",
       "0         LR  0.999359   0.479348  22895.55  17958.10 -4937.45\n",
       "1         RF  0.986922   0.468651   9421.25   8135.90 -1285.35\n",
       "2        GBM  0.965342   0.480027  23100.15  18163.45 -4936.70\n",
       "3    RF_full  0.986851   0.473616   9459.40   8716.30  -743.10\n",
       "4   GBM_full  0.988646   0.469414  22667.80  18385.90 -4281.90\n",
       "5     RF_pca  0.891839   0.462604   3460.65   2730.70  -729.95\n",
       "6    GBM_pca  0.974851   0.447880  19965.85  13503.45 -6462.40\n",
       "7  Ensembled  0.993337   0.475104  10822.95   9154.40 -1668.55"
      ]
     },
     "execution_count": 56,
     "metadata": {},
     "output_type": "execute_result"
    }
   ],
   "source": [
    "df_scores"
   ]
  },
  {
   "cell_type": "code",
   "execution_count": 57,
   "metadata": {},
   "outputs": [],
   "source": [
    "from openpyxl import load_workbook,Workbook"
   ]
  },
  {
   "cell_type": "code",
   "execution_count": 58,
   "metadata": {},
   "outputs": [],
   "source": [
    "os.chdir('../Statistics/')"
   ]
  },
  {
   "cell_type": "code",
   "execution_count": 59,
   "metadata": {},
   "outputs": [],
   "source": [
    "rf_importance = pd.DataFrame(list(zip(lr_model_columns,list(models['RF'].feature_importances_))),columns=['Var','Importance'])\n",
    "book = load_workbook('report.xlsx')\n",
    "writer = pd.ExcelWriter('report.xlsx', engine='openpyxl') \n",
    "writer.book = book\n",
    "writer.sheets = dict((ws.title, ws) for ws in book.worksheets)\n",
    "\n",
    "rf_importance.to_excel(writer, \"rf_feature_importance\", index=False)\n",
    "\n",
    "writer.save()"
   ]
  },
  {
   "cell_type": "code",
   "execution_count": 60,
   "metadata": {},
   "outputs": [],
   "source": [
    "gbm_importance = pd.DataFrame(list(zip(lr_model_columns,list(models['GBM'].feature_importances_))),columns=['Var','Importance'])\n",
    "book = load_workbook('report.xlsx')\n",
    "writer = pd.ExcelWriter('report.xlsx', engine='openpyxl') \n",
    "writer.book = book\n",
    "writer.sheets = dict((ws.title, ws) for ws in book.worksheets)\n",
    "\n",
    "gbm_importance.to_excel(writer, \"gbm_feature_importance\", index=False)\n",
    "\n",
    "writer.save()"
   ]
  },
  {
   "cell_type": "code",
   "execution_count": 61,
   "metadata": {},
   "outputs": [],
   "source": [
    "linear_importance = pd.DataFrame(list(zip([1]+list(lr_model_columns),[models['LR'].intercept_]+list(models['LR'].coef_))),columns=['Var','coeff'])\n",
    "book = load_workbook('report.xlsx')\n",
    "writer = pd.ExcelWriter('report.xlsx', engine='openpyxl') \n",
    "writer.book = book\n",
    "writer.sheets = dict((ws.title, ws) for ws in book.worksheets)\n",
    "\n",
    "linear_importance.to_excel(writer, \"linear_model_coef\", index=False)\n",
    "\n",
    "writer.save()"
   ]
  },
  {
   "cell_type": "code",
   "execution_count": 62,
   "metadata": {},
   "outputs": [],
   "source": [
    "rf_importance = pd.DataFrame(list(zip(model_columns,list(models['RF_full'].feature_importances_))),columns=['Var','Importance'])\n",
    "book = load_workbook('report.xlsx')\n",
    "writer = pd.ExcelWriter('report.xlsx', engine='openpyxl') \n",
    "writer.book = book\n",
    "writer.sheets = dict((ws.title, ws) for ws in book.worksheets)\n",
    "\n",
    "rf_importance.to_excel(writer, \"rf_full_feature_importance\", index=False)\n",
    "\n",
    "writer.save()"
   ]
  },
  {
   "cell_type": "code",
   "execution_count": 63,
   "metadata": {},
   "outputs": [],
   "source": [
    "gbm_importance = pd.DataFrame(list(zip(model_columns,list(models['GBM_full'].feature_importances_))),columns=['Var','Importance'])\n",
    "book = load_workbook('report.xlsx')\n",
    "writer = pd.ExcelWriter('report.xlsx', engine='openpyxl') \n",
    "writer.book = book\n",
    "writer.sheets = dict((ws.title, ws) for ws in book.worksheets)\n",
    "\n",
    "gbm_importance.to_excel(writer, \"gbm_full_feature_importance\", index=False)\n",
    "\n",
    "writer.save()"
   ]
  },
  {
   "cell_type": "code",
   "execution_count": 64,
   "metadata": {},
   "outputs": [],
   "source": [
    "book = load_workbook('report.xlsx')\n",
    "writer = pd.ExcelWriter('report.xlsx', engine='openpyxl') \n",
    "writer.book = book\n",
    "writer.sheets = dict((ws.title, ws) for ws in book.worksheets)\n",
    "\n",
    "df_scores.to_excel(writer, \"model_scores\", index=False)\n",
    "\n",
    "writer.save()"
   ]
  },
  {
   "cell_type": "code",
   "execution_count": 65,
   "metadata": {},
   "outputs": [],
   "source": [
    "os.chdir('../output_data/')"
   ]
  },
  {
   "cell_type": "code",
   "execution_count": 66,
   "metadata": {},
   "outputs": [
    {
     "data": {
      "text/plain": [
       "Index(['Prev_Close(in 10^5)', 'High_1d(in 10^5)', 'Low_1d(in 10^5)',\n",
       "       'Last_1d(in 10^5)', 'Close', 'VWAP_1d(in 10^5)', 'Volume_1d(in 10^9)',\n",
       "       'Turnover_1d(in 10^11)', 'Trades_1d(in 10^7)',\n",
       "       'Deliverable_Volume_1d(in 10^9)',\n",
       "       ...\n",
       "       'GBM_Prediction', 'LR_Prediction', 'RF_full_Prediction',\n",
       "       'GBM_full_Prediction', 'RF_pca_Prediction', 'GBM_pca_Prediction',\n",
       "       'Symbol', 'Date', 'Open', 'ensemble_prediction'],\n",
       "      dtype='object', length=223)"
      ]
     },
     "execution_count": 66,
     "metadata": {},
     "output_type": "execute_result"
    }
   ],
   "source": [
    "df_final.columns"
   ]
  },
  {
   "cell_type": "code",
   "execution_count": 67,
   "metadata": {},
   "outputs": [],
   "source": [
    "df_final.to_csv('validation_predicted.csv',index=False)"
   ]
  },
  {
   "cell_type": "code",
   "execution_count": 68,
   "metadata": {},
   "outputs": [],
   "source": [
    "os.chdir('../Statistics/')"
   ]
  },
  {
   "cell_type": "code",
   "execution_count": 69,
   "metadata": {},
   "outputs": [],
   "source": [
    "df_final.to_excel('Q1_predictions.xlsx',sheet_name='data',index=False)"
   ]
  },
  {
   "cell_type": "code",
   "execution_count": null,
   "metadata": {},
   "outputs": [],
   "source": []
  }
 ],
 "metadata": {
  "kernelspec": {
   "display_name": "Python 3",
   "language": "python",
   "name": "python3"
  },
  "language_info": {
   "codemirror_mode": {
    "name": "ipython",
    "version": 3
   },
   "file_extension": ".py",
   "mimetype": "text/x-python",
   "name": "python",
   "nbconvert_exporter": "python",
   "pygments_lexer": "ipython3",
   "version": "3.6.5"
  }
 },
 "nbformat": 4,
 "nbformat_minor": 2
}
